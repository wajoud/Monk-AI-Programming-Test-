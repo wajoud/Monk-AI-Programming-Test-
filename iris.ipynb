{
 "cells": [
  {
   "cell_type": "code",
   "execution_count": 1,
   "metadata": {},
   "outputs": [
    {
     "name": "stderr",
     "output_type": "stream",
     "text": [
      "Using TensorFlow backend.\n"
     ]
    }
   ],
   "source": [
    "#importing all the libries \n",
    "import matplotlib.pyplot as plt\n",
    "import numpy as np\n",
    "import pandas as pd\n",
    "import keras\n",
    "from keras.models import Sequential\n",
    "from keras.layers.core import Dense\n",
    "from keras.optimizers import Adam\n",
    "from IPython.display import SVG\n",
    "from keras.utils.vis_utils import model_to_dot\n",
    "from keras.utils import plot_model\n",
    "import seaborn as sns\n",
    "import pydot"
   ]
  },
  {
   "cell_type": "code",
   "execution_count": 2,
   "metadata": {},
   "outputs": [],
   "source": [
    "# using iris data set \n",
    "dataset= pd.read_csv('https://archive.ics.uci.edu/ml/machine-learning-databases/iris/iris.data', header=None)"
   ]
  },
  {
   "cell_type": "code",
   "execution_count": 3,
   "metadata": {},
   "outputs": [
    {
     "data": {
      "text/html": [
       "<div>\n",
       "<style scoped>\n",
       "    .dataframe tbody tr th:only-of-type {\n",
       "        vertical-align: middle;\n",
       "    }\n",
       "\n",
       "    .dataframe tbody tr th {\n",
       "        vertical-align: top;\n",
       "    }\n",
       "\n",
       "    .dataframe thead th {\n",
       "        text-align: right;\n",
       "    }\n",
       "</style>\n",
       "<table border=\"1\" class=\"dataframe\">\n",
       "  <thead>\n",
       "    <tr style=\"text-align: right;\">\n",
       "      <th></th>\n",
       "      <th>0</th>\n",
       "      <th>1</th>\n",
       "      <th>2</th>\n",
       "      <th>3</th>\n",
       "      <th>4</th>\n",
       "    </tr>\n",
       "  </thead>\n",
       "  <tbody>\n",
       "    <tr>\n",
       "      <td>0</td>\n",
       "      <td>5.1</td>\n",
       "      <td>3.5</td>\n",
       "      <td>1.4</td>\n",
       "      <td>0.2</td>\n",
       "      <td>Iris-setosa</td>\n",
       "    </tr>\n",
       "    <tr>\n",
       "      <td>1</td>\n",
       "      <td>4.9</td>\n",
       "      <td>3.0</td>\n",
       "      <td>1.4</td>\n",
       "      <td>0.2</td>\n",
       "      <td>Iris-setosa</td>\n",
       "    </tr>\n",
       "    <tr>\n",
       "      <td>2</td>\n",
       "      <td>4.7</td>\n",
       "      <td>3.2</td>\n",
       "      <td>1.3</td>\n",
       "      <td>0.2</td>\n",
       "      <td>Iris-setosa</td>\n",
       "    </tr>\n",
       "    <tr>\n",
       "      <td>3</td>\n",
       "      <td>4.6</td>\n",
       "      <td>3.1</td>\n",
       "      <td>1.5</td>\n",
       "      <td>0.2</td>\n",
       "      <td>Iris-setosa</td>\n",
       "    </tr>\n",
       "    <tr>\n",
       "      <td>4</td>\n",
       "      <td>5.0</td>\n",
       "      <td>3.6</td>\n",
       "      <td>1.4</td>\n",
       "      <td>0.2</td>\n",
       "      <td>Iris-setosa</td>\n",
       "    </tr>\n",
       "    <tr>\n",
       "      <td>...</td>\n",
       "      <td>...</td>\n",
       "      <td>...</td>\n",
       "      <td>...</td>\n",
       "      <td>...</td>\n",
       "      <td>...</td>\n",
       "    </tr>\n",
       "    <tr>\n",
       "      <td>145</td>\n",
       "      <td>6.7</td>\n",
       "      <td>3.0</td>\n",
       "      <td>5.2</td>\n",
       "      <td>2.3</td>\n",
       "      <td>Iris-virginica</td>\n",
       "    </tr>\n",
       "    <tr>\n",
       "      <td>146</td>\n",
       "      <td>6.3</td>\n",
       "      <td>2.5</td>\n",
       "      <td>5.0</td>\n",
       "      <td>1.9</td>\n",
       "      <td>Iris-virginica</td>\n",
       "    </tr>\n",
       "    <tr>\n",
       "      <td>147</td>\n",
       "      <td>6.5</td>\n",
       "      <td>3.0</td>\n",
       "      <td>5.2</td>\n",
       "      <td>2.0</td>\n",
       "      <td>Iris-virginica</td>\n",
       "    </tr>\n",
       "    <tr>\n",
       "      <td>148</td>\n",
       "      <td>6.2</td>\n",
       "      <td>3.4</td>\n",
       "      <td>5.4</td>\n",
       "      <td>2.3</td>\n",
       "      <td>Iris-virginica</td>\n",
       "    </tr>\n",
       "    <tr>\n",
       "      <td>149</td>\n",
       "      <td>5.9</td>\n",
       "      <td>3.0</td>\n",
       "      <td>5.1</td>\n",
       "      <td>1.8</td>\n",
       "      <td>Iris-virginica</td>\n",
       "    </tr>\n",
       "  </tbody>\n",
       "</table>\n",
       "<p>150 rows × 5 columns</p>\n",
       "</div>"
      ],
      "text/plain": [
       "       0    1    2    3               4\n",
       "0    5.1  3.5  1.4  0.2     Iris-setosa\n",
       "1    4.9  3.0  1.4  0.2     Iris-setosa\n",
       "2    4.7  3.2  1.3  0.2     Iris-setosa\n",
       "3    4.6  3.1  1.5  0.2     Iris-setosa\n",
       "4    5.0  3.6  1.4  0.2     Iris-setosa\n",
       "..   ...  ...  ...  ...             ...\n",
       "145  6.7  3.0  5.2  2.3  Iris-virginica\n",
       "146  6.3  2.5  5.0  1.9  Iris-virginica\n",
       "147  6.5  3.0  5.2  2.0  Iris-virginica\n",
       "148  6.2  3.4  5.4  2.3  Iris-virginica\n",
       "149  5.9  3.0  5.1  1.8  Iris-virginica\n",
       "\n",
       "[150 rows x 5 columns]"
      ]
     },
     "execution_count": 3,
     "metadata": {},
     "output_type": "execute_result"
    }
   ],
   "source": [
    "dataset"
   ]
  },
  {
   "cell_type": "code",
   "execution_count": 4,
   "metadata": {},
   "outputs": [],
   "source": [
    "#Paramentre k0,k1\n",
    "X= dataset.iloc[:,0:4].values\n",
    "Y = dataset.iloc[:,4].values"
   ]
  },
  {
   "cell_type": "code",
   "execution_count": 5,
   "metadata": {},
   "outputs": [],
   "source": [
    "#to convert all numerical values to numbers \n",
    "from sklearn.preprocessing import LabelEncoder\n",
    "encoder = LabelEncoder()\n",
    "y1 = encoder.fit_transform(Y) \n",
    "Y = pd.get_dummies(y1).values # to convert it into matrix "
   ]
  },
  {
   "cell_type": "code",
   "execution_count": 6,
   "metadata": {},
   "outputs": [],
   "source": [
    "# to split the mode \n",
    "from sklearn.model_selection import train_test_split\n",
    "x_train,x_test,y_train,y_test = train_test_split(X,Y,test_size=0.2,random_state=0)"
   ]
  },
  {
   "cell_type": "code",
   "execution_count": 27,
   "metadata": {},
   "outputs": [
    {
     "name": "stdout",
     "output_type": "stream",
     "text": [
      "(120, 4) (30, 4)\n"
     ]
    }
   ],
   "source": [
    "print(x_train.shape , x_test.shape)"
   ]
  },
  {
   "cell_type": "code",
   "execution_count": 28,
   "metadata": {},
   "outputs": [
    {
     "name": "stdout",
     "output_type": "stream",
     "text": [
      "(120, 3) (30, 3)\n"
     ]
    }
   ],
   "source": [
    "print(y_train.shape , y_test.shape)"
   ]
  },
  {
   "cell_type": "code",
   "execution_count": 36,
   "metadata": {},
   "outputs": [
    {
     "name": "stdout",
     "output_type": "stream",
     "text": [
      "Model: \"sequential_3\"\n",
      "_________________________________________________________________\n",
      "Layer (type)                 Output Shape              Param #   \n",
      "=================================================================\n",
      "dense_5 (Dense)              (None, 4)                 20        \n",
      "_________________________________________________________________\n",
      "dense_6 (Dense)              (None, 3)                 15        \n",
      "=================================================================\n",
      "Total params: 35\n",
      "Trainable params: 35\n",
      "Non-trainable params: 0\n",
      "_________________________________________________________________\n"
     ]
    }
   ],
   "source": [
    "# model using ANN wiht 1 hidder layer with linear activation function and o/p as softmax activation function\n",
    "model = Sequential()\n",
    "model.add(Dense(4,input_shape=(4,), activation ='relu')) # singel hidden layer \n",
    "model.add(Dense(3, activation='softmax'))  # output laver\n",
    "model.summary()"
   ]
  },
  {
   "cell_type": "code",
   "execution_count": 8,
   "metadata": {},
   "outputs": [],
   "source": [
    "# complining the ann using categorical_crossentropy loss function \n",
    "model.compile(optimizer = 'Adam',loss ='categorical_crossentropy',metrics=['accuracy'])"
   ]
  },
  {
   "cell_type": "code",
   "execution_count": 9,
   "metadata": {},
   "outputs": [
    {
     "name": "stderr",
     "output_type": "stream",
     "text": [
      "/home/wajoud/anaconda3/lib/python3.7/site-packages/ipykernel_launcher.py:1: UserWarning: The `nb_epoch` argument in `fit` has been renamed `epochs`.\n",
      "  \"\"\"Entry point for launching an IPython kernel.\n"
     ]
    },
    {
     "name": "stdout",
     "output_type": "stream",
     "text": [
      "Epoch 1/100\n",
      "120/120 [==============================] - 0s 4ms/step - loss: 1.4830 - accuracy: 0.6333\n",
      "Epoch 2/100\n",
      "120/120 [==============================] - 0s 459us/step - loss: 1.3918 - accuracy: 0.6333\n",
      "Epoch 3/100\n",
      "120/120 [==============================] - 0s 414us/step - loss: 1.3096 - accuracy: 0.6333\n",
      "Epoch 4/100\n",
      "120/120 [==============================] - 0s 335us/step - loss: 1.2445 - accuracy: 0.6333\n",
      "Epoch 5/100\n",
      "120/120 [==============================] - 0s 677us/step - loss: 1.1852 - accuracy: 0.6250\n",
      "Epoch 6/100\n",
      "120/120 [==============================] - 0s 337us/step - loss: 1.1432 - accuracy: 0.6167\n",
      "Epoch 7/100\n",
      "120/120 [==============================] - 0s 567us/step - loss: 1.1052 - accuracy: 0.6083\n",
      "Epoch 8/100\n",
      "120/120 [==============================] - 0s 508us/step - loss: 1.0755 - accuracy: 0.6000\n",
      "Epoch 9/100\n",
      "120/120 [==============================] - 0s 539us/step - loss: 1.0517 - accuracy: 0.5750\n",
      "Epoch 10/100\n",
      "120/120 [==============================] - 0s 442us/step - loss: 1.0259 - accuracy: 0.5667\n",
      "Epoch 11/100\n",
      "120/120 [==============================] - 0s 402us/step - loss: 1.0048 - accuracy: 0.5417\n",
      "Epoch 12/100\n",
      "120/120 [==============================] - 0s 512us/step - loss: 0.9873 - accuracy: 0.4917\n",
      "Epoch 13/100\n",
      "120/120 [==============================] - 0s 561us/step - loss: 0.9696 - accuracy: 0.4833\n",
      "Epoch 14/100\n",
      "120/120 [==============================] - 0s 400us/step - loss: 0.9552 - accuracy: 0.4417\n",
      "Epoch 15/100\n",
      "120/120 [==============================] - 0s 708us/step - loss: 0.9378 - accuracy: 0.4250\n",
      "Epoch 16/100\n",
      "120/120 [==============================] - 0s 351us/step - loss: 0.9227 - accuracy: 0.3917\n",
      "Epoch 17/100\n",
      "120/120 [==============================] - 0s 487us/step - loss: 0.9067 - accuracy: 0.3833\n",
      "Epoch 18/100\n",
      "120/120 [==============================] - 0s 508us/step - loss: 0.8899 - accuracy: 0.3667\n",
      "Epoch 19/100\n",
      "120/120 [==============================] - 0s 433us/step - loss: 0.8728 - accuracy: 0.3500\n",
      "Epoch 20/100\n",
      "120/120 [==============================] - 0s 526us/step - loss: 0.8554 - accuracy: 0.3500\n",
      "Epoch 21/100\n",
      "120/120 [==============================] - 0s 420us/step - loss: 0.8351 - accuracy: 0.4083\n",
      "Epoch 22/100\n",
      "120/120 [==============================] - 0s 569us/step - loss: 0.8165 - accuracy: 0.4417\n",
      "Epoch 23/100\n",
      "120/120 [==============================] - 0s 448us/step - loss: 0.7999 - accuracy: 0.5250\n",
      "Epoch 24/100\n",
      "120/120 [==============================] - 0s 449us/step - loss: 0.7846 - accuracy: 0.5750\n",
      "Epoch 25/100\n",
      "120/120 [==============================] - 0s 362us/step - loss: 0.7723 - accuracy: 0.6250\n",
      "Epoch 26/100\n",
      "120/120 [==============================] - 0s 356us/step - loss: 0.7619 - accuracy: 0.6583\n",
      "Epoch 27/100\n",
      "120/120 [==============================] - 0s 633us/step - loss: 0.7533 - accuracy: 0.6833\n",
      "Epoch 28/100\n",
      "120/120 [==============================] - 0s 349us/step - loss: 0.7463 - accuracy: 0.6833\n",
      "Epoch 29/100\n",
      "120/120 [==============================] - 0s 443us/step - loss: 0.7395 - accuracy: 0.6833\n",
      "Epoch 30/100\n",
      "120/120 [==============================] - 0s 364us/step - loss: 0.7336 - accuracy: 0.6833\n",
      "Epoch 31/100\n",
      "120/120 [==============================] - 0s 347us/step - loss: 0.7281 - accuracy: 0.6833\n",
      "Epoch 32/100\n",
      "120/120 [==============================] - 0s 877us/step - loss: 0.7229 - accuracy: 0.6833\n",
      "Epoch 33/100\n",
      "120/120 [==============================] - 0s 454us/step - loss: 0.7179 - accuracy: 0.6833\n",
      "Epoch 34/100\n",
      "120/120 [==============================] - 0s 524us/step - loss: 0.7132 - accuracy: 0.6833\n",
      "Epoch 35/100\n",
      "120/120 [==============================] - 0s 761us/step - loss: 0.7087 - accuracy: 0.6833\n",
      "Epoch 36/100\n",
      "120/120 [==============================] - 0s 731us/step - loss: 0.7045 - accuracy: 0.6833\n",
      "Epoch 37/100\n",
      "120/120 [==============================] - 0s 813us/step - loss: 0.7004 - accuracy: 0.6833\n",
      "Epoch 38/100\n",
      "120/120 [==============================] - 0s 628us/step - loss: 0.6963 - accuracy: 0.6833\n",
      "Epoch 39/100\n",
      "120/120 [==============================] - 0s 394us/step - loss: 0.6925 - accuracy: 0.6833\n",
      "Epoch 40/100\n",
      "120/120 [==============================] - 0s 820us/step - loss: 0.6885 - accuracy: 0.6833\n",
      "Epoch 41/100\n",
      "120/120 [==============================] - 0s 495us/step - loss: 0.6848 - accuracy: 0.6833\n",
      "Epoch 42/100\n",
      "120/120 [==============================] - 0s 341us/step - loss: 0.6813 - accuracy: 0.6833\n",
      "Epoch 43/100\n",
      "120/120 [==============================] - 0s 508us/step - loss: 0.6775 - accuracy: 0.6833\n",
      "Epoch 44/100\n",
      "120/120 [==============================] - 0s 490us/step - loss: 0.6742 - accuracy: 0.6833\n",
      "Epoch 45/100\n",
      "120/120 [==============================] - 0s 469us/step - loss: 0.6706 - accuracy: 0.6917\n",
      "Epoch 46/100\n",
      "120/120 [==============================] - 0s 450us/step - loss: 0.6673 - accuracy: 0.6917\n",
      "Epoch 47/100\n",
      "120/120 [==============================] - 0s 519us/step - loss: 0.6642 - accuracy: 0.6917\n",
      "Epoch 48/100\n",
      "120/120 [==============================] - 0s 567us/step - loss: 0.6610 - accuracy: 0.6917\n",
      "Epoch 49/100\n",
      "120/120 [==============================] - 0s 862us/step - loss: 0.6579 - accuracy: 0.6917\n",
      "Epoch 50/100\n",
      "120/120 [==============================] - 0s 831us/step - loss: 0.6549 - accuracy: 0.6917\n",
      "Epoch 51/100\n",
      "120/120 [==============================] - 0s 702us/step - loss: 0.6521 - accuracy: 0.6917\n",
      "Epoch 52/100\n",
      "120/120 [==============================] - 0s 559us/step - loss: 0.6491 - accuracy: 0.6917\n",
      "Epoch 53/100\n",
      "120/120 [==============================] - 0s 371us/step - loss: 0.6463 - accuracy: 0.6917\n",
      "Epoch 54/100\n",
      "120/120 [==============================] - 0s 399us/step - loss: 0.6436 - accuracy: 0.6917\n",
      "Epoch 55/100\n",
      "120/120 [==============================] - 0s 517us/step - loss: 0.6409 - accuracy: 0.6917\n",
      "Epoch 56/100\n",
      "120/120 [==============================] - 0s 605us/step - loss: 0.6383 - accuracy: 0.6917\n",
      "Epoch 57/100\n",
      "120/120 [==============================] - 0s 544us/step - loss: 0.6357 - accuracy: 0.6917\n",
      "Epoch 58/100\n",
      "120/120 [==============================] - 0s 652us/step - loss: 0.6332 - accuracy: 0.6917\n",
      "Epoch 59/100\n",
      "120/120 [==============================] - 0s 414us/step - loss: 0.6308 - accuracy: 0.6917\n",
      "Epoch 60/100\n",
      "120/120 [==============================] - 0s 533us/step - loss: 0.6284 - accuracy: 0.6917\n",
      "Epoch 61/100\n",
      "120/120 [==============================] - 0s 583us/step - loss: 0.6260 - accuracy: 0.6917\n",
      "Epoch 62/100\n",
      "120/120 [==============================] - 0s 610us/step - loss: 0.6237 - accuracy: 0.6917\n",
      "Epoch 63/100\n",
      "120/120 [==============================] - 0s 597us/step - loss: 0.6215 - accuracy: 0.6917\n",
      "Epoch 64/100\n",
      "120/120 [==============================] - 0s 774us/step - loss: 0.6193 - accuracy: 0.6917\n",
      "Epoch 65/100\n",
      "120/120 [==============================] - 0s 631us/step - loss: 0.6172 - accuracy: 0.6917\n",
      "Epoch 66/100\n",
      "120/120 [==============================] - 0s 571us/step - loss: 0.6151 - accuracy: 0.6917\n",
      "Epoch 67/100\n",
      "120/120 [==============================] - 0s 353us/step - loss: 0.6131 - accuracy: 0.6917\n",
      "Epoch 68/100\n",
      "120/120 [==============================] - 0s 528us/step - loss: 0.6109 - accuracy: 0.6917\n",
      "Epoch 69/100\n",
      "120/120 [==============================] - 0s 938us/step - loss: 0.6091 - accuracy: 0.6917\n",
      "Epoch 70/100\n",
      "120/120 [==============================] - 0s 679us/step - loss: 0.6071 - accuracy: 0.6917\n",
      "Epoch 71/100\n",
      "120/120 [==============================] - 0s 459us/step - loss: 0.6052 - accuracy: 0.6917\n",
      "Epoch 72/100\n",
      "120/120 [==============================] - 0s 593us/step - loss: 0.6034 - accuracy: 0.6917\n",
      "Epoch 73/100\n",
      "120/120 [==============================] - 0s 499us/step - loss: 0.6016 - accuracy: 0.6917\n",
      "Epoch 74/100\n",
      "120/120 [==============================] - 0s 442us/step - loss: 0.5997 - accuracy: 0.6917\n",
      "Epoch 75/100\n",
      "120/120 [==============================] - 0s 369us/step - loss: 0.5979 - accuracy: 0.6917\n",
      "Epoch 76/100\n",
      "120/120 [==============================] - 0s 382us/step - loss: 0.5962 - accuracy: 0.6917\n",
      "Epoch 77/100\n",
      "120/120 [==============================] - 0s 534us/step - loss: 0.5945 - accuracy: 0.6917\n",
      "Epoch 78/100\n",
      "120/120 [==============================] - 0s 424us/step - loss: 0.5929 - accuracy: 0.6917\n",
      "Epoch 79/100\n",
      "120/120 [==============================] - 0s 376us/step - loss: 0.5913 - accuracy: 0.6917\n",
      "Epoch 80/100\n",
      "120/120 [==============================] - 0s 352us/step - loss: 0.5897 - accuracy: 0.6917\n",
      "Epoch 81/100\n",
      "120/120 [==============================] - 0s 321us/step - loss: 0.5881 - accuracy: 0.6917\n",
      "Epoch 82/100\n",
      "120/120 [==============================] - 0s 548us/step - loss: 0.5868 - accuracy: 0.6917\n",
      "Epoch 83/100\n",
      "120/120 [==============================] - 0s 696us/step - loss: 0.5851 - accuracy: 0.6917\n",
      "Epoch 84/100\n",
      "120/120 [==============================] - 0s 630us/step - loss: 0.5837 - accuracy: 0.6917\n",
      "Epoch 85/100\n",
      "120/120 [==============================] - 0s 592us/step - loss: 0.5822 - accuracy: 0.6917\n",
      "Epoch 86/100\n",
      "120/120 [==============================] - 0s 635us/step - loss: 0.5808 - accuracy: 0.6917\n",
      "Epoch 87/100\n",
      "120/120 [==============================] - 0s 465us/step - loss: 0.5794 - accuracy: 0.6917\n",
      "Epoch 88/100\n",
      "120/120 [==============================] - 0s 410us/step - loss: 0.5781 - accuracy: 0.6917\n",
      "Epoch 89/100\n",
      "120/120 [==============================] - 0s 484us/step - loss: 0.5767 - accuracy: 0.6917\n",
      "Epoch 90/100\n",
      "120/120 [==============================] - 0s 783us/step - loss: 0.5754 - accuracy: 0.6917\n",
      "Epoch 91/100\n",
      "120/120 [==============================] - 0s 405us/step - loss: 0.5741 - accuracy: 0.6917\n",
      "Epoch 92/100\n",
      "120/120 [==============================] - 0s 416us/step - loss: 0.5728 - accuracy: 0.6917\n",
      "Epoch 93/100\n",
      "120/120 [==============================] - 0s 399us/step - loss: 0.5716 - accuracy: 0.6917\n",
      "Epoch 94/100\n",
      "120/120 [==============================] - 0s 550us/step - loss: 0.5704 - accuracy: 0.6917\n",
      "Epoch 95/100\n",
      "120/120 [==============================] - 0s 584us/step - loss: 0.5692 - accuracy: 0.6917\n",
      "Epoch 96/100\n",
      "120/120 [==============================] - 0s 455us/step - loss: 0.5681 - accuracy: 0.6917\n",
      "Epoch 97/100\n",
      "120/120 [==============================] - 0s 445us/step - loss: 0.5669 - accuracy: 0.6917\n",
      "Epoch 98/100\n",
      "120/120 [==============================] - 0s 442us/step - loss: 0.5658 - accuracy: 0.6917\n",
      "Epoch 99/100\n",
      "120/120 [==============================] - 0s 817us/step - loss: 0.5646 - accuracy: 0.6917\n",
      "Epoch 100/100\n",
      "120/120 [==============================] - 0s 347us/step - loss: 0.5635 - accuracy: 0.6917\n"
     ]
    },
    {
     "data": {
      "text/plain": [
       "<keras.callbacks.callbacks.History at 0x7f4652222d68>"
      ]
     },
     "execution_count": 9,
     "metadata": {},
     "output_type": "execute_result"
    }
   ],
   "source": [
    "model.fit(x_train, y_train,batch_size=10 ,nb_epoch=100)"
   ]
  },
  {
   "cell_type": "code",
   "execution_count": 34,
   "metadata": {},
   "outputs": [
    {
     "name": "stdout",
     "output_type": "stream",
     "text": [
      "[[6.4 3.1 5.5 1.8]\n",
      " [5.4 3.  4.5 1.5]\n",
      " [5.2 3.5 1.5 0.2]\n",
      " [6.1 3.  4.9 1.8]\n",
      " [6.4 2.8 5.6 2.2]\n",
      " [5.2 2.7 3.9 1.4]\n",
      " [5.7 3.8 1.7 0.3]\n",
      " [6.  2.7 5.1 1.6]\n",
      " [5.9 3.  4.2 1.5]\n",
      " [5.8 2.6 4.  1.2]\n",
      " [6.8 3.  5.5 2.1]\n",
      " [4.7 3.2 1.3 0.2]\n",
      " [6.9 3.1 5.1 2.3]\n",
      " [5.  3.5 1.6 0.6]\n",
      " [5.4 3.7 1.5 0.2]\n",
      " [5.  2.  3.5 1. ]\n",
      " [6.5 3.  5.5 1.8]\n",
      " [6.7 3.3 5.7 2.5]\n",
      " [6.  2.2 5.  1.5]\n",
      " [6.7 2.5 5.8 1.8]\n",
      " [5.6 2.5 3.9 1.1]\n",
      " [7.7 3.  6.1 2.3]\n",
      " [6.3 3.3 4.7 1.6]\n",
      " [5.5 2.4 3.8 1.1]\n",
      " [6.3 2.7 4.9 1.8]\n",
      " [6.3 2.8 5.1 1.5]\n",
      " [4.9 2.5 4.5 1.7]\n",
      " [6.3 2.5 5.  1.9]\n",
      " [7.  3.2 4.7 1.4]\n",
      " [6.5 3.  5.2 2. ]\n",
      " [6.  3.4 4.5 1.6]\n",
      " [4.8 3.1 1.6 0.2]\n",
      " [5.8 2.7 5.1 1.9]\n",
      " [5.6 2.7 4.2 1.3]\n",
      " [5.6 2.9 3.6 1.3]\n",
      " [5.5 2.5 4.  1.3]\n",
      " [6.1 3.  4.6 1.4]\n",
      " [7.2 3.2 6.  1.8]\n",
      " [5.3 3.7 1.5 0.2]\n",
      " [4.3 3.  1.1 0.1]\n",
      " [6.4 2.7 5.3 1.9]\n",
      " [5.7 3.  4.2 1.2]\n",
      " [5.4 3.4 1.7 0.2]\n",
      " [5.7 4.4 1.5 0.4]\n",
      " [6.9 3.1 4.9 1.5]\n",
      " [4.6 3.1 1.5 0.2]\n",
      " [5.9 3.  5.1 1.8]\n",
      " [5.1 2.5 3.  1.1]\n",
      " [4.6 3.4 1.4 0.3]\n",
      " [6.2 2.2 4.5 1.5]\n",
      " [7.2 3.6 6.1 2.5]\n",
      " [5.7 2.9 4.2 1.3]\n",
      " [4.8 3.  1.4 0.1]\n",
      " [7.1 3.  5.9 2.1]\n",
      " [6.9 3.2 5.7 2.3]\n",
      " [6.5 3.  5.8 2.2]\n",
      " [6.4 2.8 5.6 2.1]\n",
      " [5.1 3.8 1.6 0.2]\n",
      " [4.8 3.4 1.6 0.2]\n",
      " [6.5 3.2 5.1 2. ]\n",
      " [6.7 3.3 5.7 2.1]\n",
      " [4.5 2.3 1.3 0.3]\n",
      " [6.2 3.4 5.4 2.3]\n",
      " [4.9 3.  1.4 0.2]\n",
      " [5.7 2.5 5.  2. ]\n",
      " [6.9 3.1 5.4 2.1]\n",
      " [4.4 3.2 1.3 0.2]\n",
      " [5.  3.6 1.4 0.2]\n",
      " [7.2 3.  5.8 1.6]\n",
      " [5.1 3.5 1.4 0.3]\n",
      " [4.4 3.  1.3 0.2]\n",
      " [5.4 3.9 1.7 0.4]\n",
      " [5.5 2.3 4.  1.3]\n",
      " [6.8 3.2 5.9 2.3]\n",
      " [7.6 3.  6.6 2.1]\n",
      " [5.1 3.5 1.4 0.2]\n",
      " [4.9 3.1 1.5 0.1]\n",
      " [5.2 3.4 1.4 0.2]\n",
      " [5.7 2.8 4.5 1.3]\n",
      " [6.6 3.  4.4 1.4]\n",
      " [5.  3.2 1.2 0.2]\n",
      " [5.1 3.3 1.7 0.5]\n",
      " [6.4 2.9 4.3 1.3]\n",
      " [5.4 3.4 1.5 0.4]\n",
      " [7.7 2.6 6.9 2.3]\n",
      " [4.9 2.4 3.3 1. ]\n",
      " [7.9 3.8 6.4 2. ]\n",
      " [6.7 3.1 4.4 1.4]\n",
      " [5.2 4.1 1.5 0.1]\n",
      " [6.  3.  4.8 1.8]\n",
      " [5.8 4.  1.2 0.2]\n",
      " [7.7 2.8 6.7 2. ]\n",
      " [5.1 3.8 1.5 0.3]\n",
      " [4.7 3.2 1.6 0.2]\n",
      " [7.4 2.8 6.1 1.9]\n",
      " [5.  3.3 1.4 0.2]\n",
      " [6.3 3.4 5.6 2.4]\n",
      " [5.7 2.8 4.1 1.3]\n",
      " [5.8 2.7 3.9 1.2]\n",
      " [5.7 2.6 3.5 1. ]\n",
      " [6.4 3.2 5.3 2.3]\n",
      " [6.7 3.  5.2 2.3]\n",
      " [6.3 2.5 4.9 1.5]\n",
      " [6.7 3.  5.  1.7]\n",
      " [5.  3.  1.6 0.2]\n",
      " [5.5 2.4 3.7 1. ]\n",
      " [6.7 3.1 5.6 2.4]\n",
      " [5.8 2.7 5.1 1.9]\n",
      " [5.1 3.4 1.5 0.2]\n",
      " [6.6 2.9 4.6 1.3]\n",
      " [5.6 3.  4.1 1.3]\n",
      " [5.9 3.2 4.8 1.8]\n",
      " [6.3 2.3 4.4 1.3]\n",
      " [5.5 3.5 1.3 0.2]\n",
      " [5.1 3.7 1.5 0.4]\n",
      " [4.9 3.1 1.5 0.1]\n",
      " [6.3 2.9 5.6 1.8]\n",
      " [5.8 2.7 4.1 1. ]\n",
      " [7.7 3.8 6.7 2.2]\n",
      " [4.6 3.2 1.4 0.2]]\n"
     ]
    }
   ],
   "source": [
    "print(x_train)"
   ]
  },
  {
   "cell_type": "code",
   "execution_count": 25,
   "metadata": {},
   "outputs": [],
   "source": [
    "y_pred =model.predict(x_test)\n",
    "y_test_class = np.argmax(y_test,axis=1)\n",
    "y_pred_class = np.argmax(y_pred,axis = 1)"
   ]
  },
  {
   "cell_type": "code",
   "execution_count": 11,
   "metadata": {},
   "outputs": [
    {
     "name": "stdout",
     "output_type": "stream",
     "text": [
      "              precision    recall  f1-score   support\n",
      "\n",
      "           0       1.00      1.00      1.00        11\n",
      "           1       0.00      0.00      0.00        13\n",
      "           2       0.32      1.00      0.48         6\n",
      "\n",
      "    accuracy                           0.57        30\n",
      "   macro avg       0.44      0.67      0.49        30\n",
      "weighted avg       0.43      0.57      0.46        30\n",
      "\n",
      "[[11  0  0]\n",
      " [ 0  0 13]\n",
      " [ 0  0  6]]\n"
     ]
    },
    {
     "name": "stderr",
     "output_type": "stream",
     "text": [
      "/home/wajoud/anaconda3/lib/python3.7/site-packages/sklearn/metrics/classification.py:1437: UndefinedMetricWarning: Precision and F-score are ill-defined and being set to 0.0 in labels with no predicted samples.\n",
      "  'precision', 'predicted', average, warn_for)\n"
     ]
    }
   ],
   "source": [
    "from sklearn.metrics import classification_report,confusion_matrix\n",
    "print(classification_report(y_test_class,y_pred_class))\n",
    "print(confusion_matrix(y_test_class,y_pred_class))"
   ]
  },
  {
   "cell_type": "code",
   "execution_count": 15,
   "metadata": {},
   "outputs": [],
   "source": [
    "history = model.fit(x_train, y_train, validation_split=0.33, epochs=150, batch_size=10, verbose=0)"
   ]
  },
  {
   "cell_type": "code",
   "execution_count": 16,
   "metadata": {},
   "outputs": [
    {
     "name": "stdout",
     "output_type": "stream",
     "text": [
      "dict_keys(['val_loss', 'val_accuracy', 'loss', 'accuracy'])\n"
     ]
    }
   ],
   "source": [
    "print(history.history.keys())"
   ]
  },
  {
   "cell_type": "code",
   "execution_count": 17,
   "metadata": {},
   "outputs": [
    {
     "data": {
      "image/png": "[encoded data removed]",
      "text/plain": [
       "<Figure size 432x288 with 1 Axes>"
      ]
     },
     "metadata": {
      "needs_background": "light"
     },
     "output_type": "display_data"
    },
    {
     "data": {
      "image/png": "[encoded data removed]",
      "text/plain": [
       "<Figure size 432x288 with 1 Axes>"
      ]
     },
     "metadata": {
      "needs_background": "light"
     },
     "output_type": "display_data"
    }
   ],
   "source": [
    "plt.plot(history.history['accuracy'])\n",
    "plt.plot(history.history['val_accuracy'])\n",
    "plt.title('model accuracy')\n",
    "plt.ylabel('accuracy')\n",
    "plt.xlabel('epoch')\n",
    "plt.legend(['train', 'test'], loc='upper right')\n",
    "plt.show()\n",
    "# summarize history for loss\n",
    "plt.plot(history.history['loss'])\n",
    "plt.plot(history.history['val_loss'])\n",
    "plt.title('model loss')\n",
    "plt.ylabel('loss')\n",
    "plt.xlabel('epoch')\n",
    "plt.legend(['train', 'test'], loc='upper left')\n",
    "plt.show()"
   ]
  },
  {
   "cell_type": "code",
   "execution_count": null,
   "metadata": {},
   "outputs": [],
   "source": []
  }
 ],
 "metadata": {
  "kernelspec": {
   "display_name": "Python 3",
   "language": "python",
   "name": "python3"
  },
  "language_info": {
   "codemirror_mode": {
    "name": "ipython",
    "version": 3
   },
   "file_extension": ".py",
   "mimetype": "text/x-python",
   "name": "python",
   "nbconvert_exporter": "python",
   "pygments_lexer": "ipython3",
   "version": "3.7.3"
  }
 },
 "nbformat": 4,
 "nbformat_minor": 4
}
